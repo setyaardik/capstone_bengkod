{
  "nbformat": 4,
  "nbformat_minor": 0,
  "metadata": {
    "colab": {
      "provenance": []
    },
    "kernelspec": {
      "name": "python3",
      "display_name": "Python 3"
    },
    "language_info": {
      "name": "python"
    }
  },
  "cells": [
    {
      "cell_type": "markdown",
      "source": [
        "Import Library"
      ],
      "metadata": {
        "id": "4wKpdansSv8s"
      }
    },
    {
      "cell_type": "code",
      "execution_count": 85,
      "metadata": {
        "id": "PE71mPhF9Rdi"
      },
      "outputs": [],
      "source": [
        "import pandas as pd\n",
        "import numpy as np\n",
        "import seaborn as sns\n",
        "import matplotlib.pyplot as plt\n",
        "\n",
        "from sklearn.preprocessing import LabelEncoder, StandardScaler\n",
        "from sklearn.model_selection import train_test_split, GridSearchCV\n",
        "from sklearn.ensemble import RandomForestClassifier\n",
        "from sklearn.linear_model import LogisticRegression\n",
        "from sklearn.svm import SVC\n",
        "from sklearn.metrics import classification_report, confusion_matrix, accuracy_score, precision_score, recall_score, f1_score\n",
        "from sklearn.impute import SimpleImputer\n",
        "from imblearn.over_sampling import SMOTE\n",
        "import joblib"
      ]
    },
    {
      "cell_type": "markdown",
      "source": [
        "Load Dataset"
      ],
      "metadata": {
        "id": "ZM_FBy7jSz4l"
      }
    },
    {
      "cell_type": "code",
      "source": [
        "df = pd.read_csv('/content/ObesityDataSet.csv')"
      ],
      "metadata": {
        "id": "ranp8ikVBI4I"
      },
      "execution_count": 86,
      "outputs": []
    },
    {
      "cell_type": "markdown",
      "source": [
        "EDA"
      ],
      "metadata": {
        "id": "cYnRBUnvBMOK"
      }
    },
    {
      "cell_type": "code",
      "source": [
        "print(\"Data Info:\")\n",
        "print(df.info())\n",
        "\n",
        "print(\"\\n 5 Data Pertama:\")\n",
        "print(df.head())\n",
        "\n",
        "print(\"\\n Missing Values:\")\n",
        "print(df.isnull().sum())\n",
        "\n",
        "print(\"\\n Data Duplikat:\", df.duplicated().sum())\n",
        "\n",
        "print(\"\\n Unique Values:\")\n",
        "print(df.nunique())\n",
        "\n",
        "print(\"\\n Distribusi Target:\")\n",
        "print(df[\"NObeyesdad\"].value_counts())\n"
      ],
      "metadata": {
        "id": "WirtVlT0BLZ_",
        "outputId": "28122188-23b7-4d39-c2a4-366afdb769af",
        "colab": {
          "base_uri": "https://localhost:8080/"
        }
      },
      "execution_count": 87,
      "outputs": [
        {
          "output_type": "stream",
          "name": "stdout",
          "text": [
            "Data Info:\n",
            "<class 'pandas.core.frame.DataFrame'>\n",
            "RangeIndex: 2111 entries, 0 to 2110\n",
            "Data columns (total 17 columns):\n",
            " #   Column                          Non-Null Count  Dtype \n",
            "---  ------                          --------------  ----- \n",
            " 0   Age                             2097 non-null   object\n",
            " 1   Gender                          2102 non-null   object\n",
            " 2   Height                          2099 non-null   object\n",
            " 3   Weight                          2100 non-null   object\n",
            " 4   CALC                            2106 non-null   object\n",
            " 5   FAVC                            2100 non-null   object\n",
            " 6   FCVC                            2103 non-null   object\n",
            " 7   NCP                             2099 non-null   object\n",
            " 8   SCC                             2101 non-null   object\n",
            " 9   SMOKE                           2106 non-null   object\n",
            " 10  CH2O                            2105 non-null   object\n",
            " 11  family_history_with_overweight  2098 non-null   object\n",
            " 12  FAF                             2103 non-null   object\n",
            " 13  TUE                             2102 non-null   object\n",
            " 14  CAEC                            2100 non-null   object\n",
            " 15  MTRANS                          2105 non-null   object\n",
            " 16  NObeyesdad                      2111 non-null   object\n",
            "dtypes: object(17)\n",
            "memory usage: 280.5+ KB\n",
            "None\n",
            "\n",
            " 5 Data Pertama:\n",
            "  Age  Gender Height Weight        CALC FAVC FCVC NCP  SCC SMOKE CH2O  \\\n",
            "0  21  Female   1.62     64          no   no    2   3   no    no    2   \n",
            "1  21  Female   1.52     56   Sometimes   no    3   3  yes   yes    3   \n",
            "2  23    Male    1.8     77  Frequently   no    2   3   no    no    2   \n",
            "3  27    Male    1.8     87  Frequently   no    3   3   no    no    2   \n",
            "4  22    Male   1.78   89.8   Sometimes   no    2   1   no    no    2   \n",
            "\n",
            "  family_history_with_overweight FAF TUE       CAEC                 MTRANS  \\\n",
            "0                            yes   0   1  Sometimes  Public_Transportation   \n",
            "1                            yes   3   0  Sometimes  Public_Transportation   \n",
            "2                            yes   2   1  Sometimes  Public_Transportation   \n",
            "3                             no   2   0  Sometimes                Walking   \n",
            "4                             no   0   0  Sometimes  Public_Transportation   \n",
            "\n",
            "            NObeyesdad  \n",
            "0        Normal_Weight  \n",
            "1        Normal_Weight  \n",
            "2        Normal_Weight  \n",
            "3   Overweight_Level_I  \n",
            "4  Overweight_Level_II  \n",
            "\n",
            " Missing Values:\n",
            "Age                               14\n",
            "Gender                             9\n",
            "Height                            12\n",
            "Weight                            11\n",
            "CALC                               5\n",
            "FAVC                              11\n",
            "FCVC                               8\n",
            "NCP                               12\n",
            "SCC                               10\n",
            "SMOKE                              5\n",
            "CH2O                               6\n",
            "family_history_with_overweight    13\n",
            "FAF                                8\n",
            "TUE                                9\n",
            "CAEC                              11\n",
            "MTRANS                             6\n",
            "NObeyesdad                         0\n",
            "dtype: int64\n",
            "\n",
            " Data Duplikat: 18\n",
            "\n",
            " Unique Values:\n",
            "Age                               1394\n",
            "Gender                               3\n",
            "Height                            1562\n",
            "Weight                            1518\n",
            "CALC                                 5\n",
            "FAVC                                 3\n",
            "FCVC                               808\n",
            "NCP                                637\n",
            "SCC                                  3\n",
            "SMOKE                                3\n",
            "CH2O                              1263\n",
            "family_history_with_overweight       3\n",
            "FAF                               1186\n",
            "TUE                               1130\n",
            "CAEC                                 5\n",
            "MTRANS                               6\n",
            "NObeyesdad                           7\n",
            "dtype: int64\n",
            "\n",
            " Distribusi Target:\n",
            "NObeyesdad\n",
            "Obesity_Type_I         351\n",
            "Obesity_Type_III       324\n",
            "Obesity_Type_II        297\n",
            "Overweight_Level_I     290\n",
            "Overweight_Level_II    290\n",
            "Normal_Weight          287\n",
            "Insufficient_Weight    272\n",
            "Name: count, dtype: int64\n"
          ]
        }
      ]
    },
    {
      "cell_type": "code",
      "source": [
        "# Visualisasi distribusi target\n",
        "plt.figure(figsize=(10,4))\n",
        "sns.countplot(data=df, x=\"NObeyesdad\", order=df[\"NObeyesdad\"].value_counts().index)\n",
        "plt.xticks(rotation=45)\n",
        "plt.title(\"Distribusi Target Obesitas\")\n",
        "plt.tight_layout()\n",
        "plt.show()"
      ],
      "metadata": {
        "colab": {
          "base_uri": "https://localhost:8080/",
          "height": 265
        },
        "id": "x0Bztrs_TO_w",
        "outputId": "855aadfa-0933-4009-c81b-a0523a33fcc4"
      },
      "execution_count": 88,
      "outputs": [
        {
          "output_type": "display_data",
          "data": {
            "text/plain": [
              "<Figure size 1000x400 with 1 Axes>"
            ],
            "image/png": "[encoded data removed]"
          },
          "metadata": {}
        }
      ]
    },
    {
      "cell_type": "code",
      "source": [
        "# Daftar kolom yang seharusnya numerik\n",
        "numerik_cols = ['Age', 'Height', 'Weight', 'FCVC', 'NCP', 'CH2O', 'TUE', 'FAF']\n",
        "\n",
        "# Ubah jadi numerik\n",
        "for col in numerik_cols:\n",
        "    df[col] = pd.to_numeric(df[col], errors='coerce')\n",
        "\n",
        "# Cek ulang tipe data\n",
        "print(df.dtypes)"
      ],
      "metadata": {
        "colab": {
          "base_uri": "https://localhost:8080/"
        },
        "id": "emsr4dTlT-gT",
        "outputId": "115f034d-725d-4179-ed18-6b3149d698fd"
      },
      "execution_count": 89,
      "outputs": [
        {
          "output_type": "stream",
          "name": "stdout",
          "text": [
            "Age                               float64\n",
            "Gender                             object\n",
            "Height                            float64\n",
            "Weight                            float64\n",
            "CALC                               object\n",
            "FAVC                               object\n",
            "FCVC                              float64\n",
            "NCP                               float64\n",
            "SCC                                object\n",
            "SMOKE                              object\n",
            "CH2O                              float64\n",
            "family_history_with_overweight     object\n",
            "FAF                               float64\n",
            "TUE                               float64\n",
            "CAEC                               object\n",
            "MTRANS                             object\n",
            "NObeyesdad                         object\n",
            "dtype: object\n"
          ]
        }
      ]
    },
    {
      "cell_type": "code",
      "source": [
        "# Boxplot untuk deteksi outlier numerik\n",
        "numeric_cols = df.select_dtypes(include=['float64', 'int64']).columns\n",
        "plt.figure(figsize=(15, 8))\n",
        "df[numeric_cols].boxplot()\n",
        "plt.title(\"Boxplot Fitur Numerik\")\n",
        "plt.xticks(rotation=45)\n",
        "plt.show()"
      ],
      "metadata": {
        "colab": {
          "base_uri": "https://localhost:8080/",
          "height": 384
        },
        "id": "eYKU0hVRTav3",
        "outputId": "410f3287-624e-4deb-83e7-4e2ba963728f"
      },
      "execution_count": 90,
      "outputs": [
        {
          "output_type": "display_data",
          "data": {
            "text/plain": [
              "<Figure size 1500x800 with 1 Axes>"
            ],
            "image/png": "[encoded data removed]"
          },
          "metadata": {}
        }
      ]
    },
    {
      "cell_type": "markdown",
      "source": [
        "Data Processing"
      ],
      "metadata": {
        "id": "PnI-QmR0URjL"
      }
    },
    {
      "cell_type": "code",
      "source": [
        "# Encode label target dari string\n",
        "label_encoder = LabelEncoder()\n",
        "y = label_encoder.fit_transform(df['NObeyesdad'])  # hanya fit-transform ke y\n",
        "\n",
        "# Simpan label string asli di encoder\n",
        "# Jangan ubah df['NObeyesdad'] agar encoder tetap valid\n",
        "\n",
        "# Pisahkan fitur dari label\n",
        "df_clean = df.drop(columns=['NObeyesdad']).copy()\n",
        "\n",
        "# Imputasi numerik (mean)\n",
        "mean_cols = ['Age', 'Height', 'Weight', 'NCP', 'FAF', 'CH2O', 'TUE']\n",
        "mean_imputer = SimpleImputer(strategy='mean')\n",
        "df_clean[mean_cols] = mean_imputer.fit_transform(df_clean[mean_cols])\n",
        "\n",
        "# Imputasi median\n",
        "median_cols = ['FCVC']\n",
        "median_imputer = SimpleImputer(strategy='median')\n",
        "df_clean[median_cols] = median_imputer.fit_transform(df_clean[median_cols])\n",
        "\n",
        "# Imputasi kategorikal (modus)\n",
        "mode_cols = ['Gender', 'CALC', 'CAEC', 'MTRANS', 'FAVC', 'SCC', 'SMOKE', 'family_history_with_overweight']\n",
        "mode_imputer = SimpleImputer(strategy='most_frequent')\n",
        "df_clean[mode_cols] = mode_imputer.fit_transform(df_clean[mode_cols])\n",
        "\n",
        "# One-hot encoding fitur\n",
        "X_encoded = pd.get_dummies(df_clean, drop_first=True)\n",
        "X = X_encoded\n"
      ],
      "metadata": {
        "id": "srxbYmN7URP6"
      },
      "execution_count": 91,
      "outputs": []
    },
    {
      "cell_type": "code",
      "source": [
        "print(\"Isi label_encoder.classes_:\", label_encoder.classes_)\n"
      ],
      "metadata": {
        "id": "hg6lujbDv121",
        "outputId": "94094215-48ba-40de-d67d-b3301cc2a07e",
        "colab": {
          "base_uri": "https://localhost:8080/"
        }
      },
      "execution_count": 92,
      "outputs": [
        {
          "output_type": "stream",
          "name": "stdout",
          "text": [
            "Isi label_encoder.classes_: ['Insufficient_Weight' 'Normal_Weight' 'Obesity_Type_I' 'Obesity_Type_II'\n",
            " 'Obesity_Type_III' 'Overweight_Level_I' 'Overweight_Level_II']\n"
          ]
        }
      ]
    },
    {
      "cell_type": "code",
      "source": [
        "smote = SMOTE(random_state=42)\n",
        "X_resampled, y_resampled = smote.fit_resample(X, y)\n",
        "\n",
        "# 2. Scaling fitur\n",
        "scaler = StandardScaler()\n",
        "X_scaled = scaler.fit_transform(X_resampled)\n",
        "\n",
        "# 3. Split data\n",
        "X_train, X_test, y_train, y_test = train_test_split(\n",
        "    X_scaled, y_resampled, test_size=0.2, random_state=42\n",
        ")"
      ],
      "metadata": {
        "id": "hkbMevpCUbQC"
      },
      "execution_count": 93,
      "outputs": []
    },
    {
      "cell_type": "markdown",
      "source": [
        "Modeling & Evaluasi"
      ],
      "metadata": {
        "id": "MnqaDlpcVP_r"
      }
    },
    {
      "cell_type": "code",
      "source": [
        "models = {\n",
        "    \"Random Forest\": RandomForestClassifier(random_state=42),\n",
        "    \"Logistic Regression\": LogisticRegression(max_iter=1000, random_state=42),\n",
        "    \"SVM\": SVC(probability=True, random_state=42)\n",
        "}"
      ],
      "metadata": {
        "id": "41r8wRiyVNtx"
      },
      "execution_count": 94,
      "outputs": []
    },
    {
      "cell_type": "code",
      "source": [
        "print(\"📈 Evaluasi Model Awal:\\n\")\n",
        "\n",
        "for name, model in models.items():\n",
        "    model.fit(X_train, y_train)\n",
        "    y_pred = model.predict(X_test)\n",
        "\n",
        "    print(f\"📌 {name}\")\n",
        "    print(\"Accuracy :\", accuracy_score(y_test, y_pred))\n",
        "    print(\"Precision:\", precision_score(y_test, y_pred, average=\"weighted\", zero_division=0))\n",
        "    print(\"Recall   :\", recall_score(y_test, y_pred, average=\"weighted\", zero_division=0))\n",
        "    print(\"F1 Score :\", f1_score(y_test, y_pred, average=\"weighted\", zero_division=0))\n",
        "    print(\"=\"*60)"
      ],
      "metadata": {
        "colab": {
          "base_uri": "https://localhost:8080/"
        },
        "id": "GNBBYqxMVWXJ",
        "outputId": "b2dfd838-e3be-4422-cf8f-bae8379902b0"
      },
      "execution_count": 95,
      "outputs": [
        {
          "output_type": "stream",
          "name": "stdout",
          "text": [
            "📈 Evaluasi Model Awal:\n",
            "\n",
            "📌 Random Forest\n",
            "Accuracy : 0.926829268292683\n",
            "Precision: 0.9289319183218514\n",
            "Recall   : 0.926829268292683\n",
            "F1 Score : 0.9270818463302481\n",
            "============================================================\n",
            "📌 Logistic Regression\n",
            "Accuracy : 0.7459349593495935\n",
            "Precision: 0.737157694341787\n",
            "Recall   : 0.7459349593495935\n",
            "F1 Score : 0.7344862161343895\n",
            "============================================================\n",
            "📌 SVM\n",
            "Accuracy : 0.8109756097560976\n",
            "Precision: 0.8131687898797084\n",
            "Recall   : 0.8109756097560976\n",
            "F1 Score : 0.810287204205138\n",
            "============================================================\n"
          ]
        }
      ]
    },
    {
      "cell_type": "markdown",
      "source": [
        "Hyperparameter Tuning (Random Forest)"
      ],
      "metadata": {
        "id": "K3SjK-8sVdYd"
      }
    },
    {
      "cell_type": "code",
      "source": [
        "param_grid = {\n",
        "    \"n_estimators\": [100, 150],\n",
        "    \"max_depth\": [None, 10, 20],\n",
        "    \"min_samples_split\": [2, 5],\n",
        "}\n",
        "\n",
        "# Grid SearchCV\n",
        "grid = GridSearchCV(\n",
        "    estimator=RandomForestClassifier(random_state=42),\n",
        "    param_grid=param_grid,\n",
        "    cv=3,\n",
        "    n_jobs=-1,\n",
        "    scoring='f1_weighted',\n",
        "    verbose=1\n",
        ")\n",
        "\n",
        "grid.fit(X_train, y_train)\n",
        "\n",
        "# Best model\n",
        "best_model = grid.best_estimator_\n",
        "print(\"✅ Best Params RF:\", grid.best_params_)"
      ],
      "metadata": {
        "colab": {
          "base_uri": "https://localhost:8080/"
        },
        "id": "oHBiWVUdVa6W",
        "outputId": "968a9814-e64c-458b-eb4e-ac8080830fec"
      },
      "execution_count": 96,
      "outputs": [
        {
          "output_type": "stream",
          "name": "stdout",
          "text": [
            "Fitting 3 folds for each of 12 candidates, totalling 36 fits\n",
            "✅ Best Params RF: {'max_depth': 20, 'min_samples_split': 2, 'n_estimators': 150}\n"
          ]
        }
      ]
    },
    {
      "cell_type": "code",
      "source": [
        "# Pastikan label encoder sudah di-fit pada df['NObeyesdad'] (bentuk string aslinya)\n",
        "\n",
        "# Evaluasi\n",
        "target_names = label_encoder.classes_\n",
        "\n",
        "print(\"\\n📌 Evaluasi Model Terbaik (Random Forest after tuning)\")\n",
        "print(classification_report(y_test, y_pred_best, target_names=target_names))\n",
        "print(\"Confusion Matrix:\\n\", confusion_matrix(y_test, y_pred_best))\n"
      ],
      "metadata": {
        "colab": {
          "base_uri": "https://localhost:8080/"
        },
        "id": "gk5OZAslVxBl",
        "outputId": "27652e4b-df86-44c2-fd3b-f0cc83faa24a"
      },
      "execution_count": 97,
      "outputs": [
        {
          "output_type": "stream",
          "name": "stdout",
          "text": [
            "\n",
            "📌 Evaluasi Model Terbaik (Random Forest after tuning)\n",
            "                     precision    recall  f1-score   support\n",
            "\n",
            "Insufficient_Weight       0.96      0.94      0.95        68\n",
            "      Normal_Weight       0.88      0.91      0.89        74\n",
            "     Obesity_Type_I       0.90      0.96      0.93        68\n",
            "    Obesity_Type_II       0.97      0.99      0.98        70\n",
            "   Obesity_Type_III       0.99      1.00      0.99        74\n",
            " Overweight_Level_I       0.92      0.91      0.92        66\n",
            "Overweight_Level_II       0.98      0.90      0.94        72\n",
            "\n",
            "           accuracy                           0.94       492\n",
            "          macro avg       0.94      0.94      0.94       492\n",
            "       weighted avg       0.94      0.94      0.94       492\n",
            "\n",
            "Confusion Matrix:\n",
            " [[64  3  0  0  0  1  0]\n",
            " [ 3 67  1  0  0  3  0]\n",
            " [ 0  1 65  1  0  1  0]\n",
            " [ 0  0  1 69  0  0  0]\n",
            " [ 0  0  0  0 74  0  0]\n",
            " [ 0  4  0  0  1 60  1]\n",
            " [ 0  1  5  1  0  0 65]]\n"
          ]
        }
      ]
    },
    {
      "cell_type": "markdown",
      "source": [
        "Deployment"
      ],
      "metadata": {
        "id": "V3t7OLsMV17O"
      }
    },
    {
      "cell_type": "code",
      "source": [
        "joblib.dump(best_model, \"best_model.pkl\")\n",
        "joblib.dump(scaler, \"scaler.pkl\")\n",
        "joblib.dump(label_encoder, \"label_encoder.pkl\")\n",
        "joblib.dump(X_encoded.columns.tolist(), \"feature_columns.pkl\")\n",
        "\n",
        "print(\"✅ Model, scaler, encoder, dan fitur berhasil disimpan!\")"
      ],
      "metadata": {
        "colab": {
          "base_uri": "https://localhost:8080/"
        },
        "id": "NLZye8BZV3KP",
        "outputId": "0861dd3e-281e-40fd-daed-5f3d34fa0206"
      },
      "execution_count": 98,
      "outputs": [
        {
          "output_type": "stream",
          "name": "stdout",
          "text": [
            "✅ Model, scaler, encoder, dan fitur berhasil disimpan!\n"
          ]
        }
      ]
    },
    {
      "cell_type": "markdown",
      "source": [],
      "metadata": {
        "id": "t77e9F50nIeh"
      }
    }
  ]
}